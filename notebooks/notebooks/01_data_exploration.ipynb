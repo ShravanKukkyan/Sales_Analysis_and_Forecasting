{
 "cells": [
  {
   "cell_type": "code",
   "execution_count": null,
   "metadata": {},
   "outputs": [],
   "source": [
    "import pandas as pd\n",
    "import matplotlib.pyplot as plt\n",
    "import seaborn as sns\n",
    "\n",
    "df = pd.read_csv(\"../data/processed/sales_cleaned.csv\", parse_dates=[\"Date\"])\n",
    "\n",
    "# Sales over time\n",
    "plt.figure(figsize=(12,5))\n",
    "sns.lineplot(x=df[\"Date\"], y=df[\"Sales\"])\n",
    "plt.title(\"Sales Over Time\")\n",
    "plt.show()\n",
    "\n",
    "# Sales distribution by Category\n",
    "plt.figure(figsize=(10,5))\n",
    "sns.barplot(x=\"Category\", y=\"Sales\", data=df)\n",
    "plt.title(\"Sales by Category\")\n",
    "plt.xticks(rotation=45)\n",
    "plt.show()\n"
   ]
  }
 ],
 "metadata": {
  "language_info": {
   "name": "python"
  }
 },
 "nbformat": 4,
 "nbformat_minor": 2
}
